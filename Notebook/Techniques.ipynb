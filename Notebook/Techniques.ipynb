{
 "cells": [
  {
   "cell_type": "markdown",
   "id": "089d9600-8a82-4c76-b8ed-fbc82c0b32e5",
   "metadata": {},
   "source": [
    "### 1. Base de documents"
   ]
  },
  {
   "cell_type": "code",
   "execution_count": 13,
   "id": "8dac6830-9710-43a2-9199-5d9489c7428c",
   "metadata": {},
   "outputs": [],
   "source": [
    "documents = [\n",
    "    \"La capitale du Mali est Bamako.\",\n",
    "    \"Le deep learning est une branche du machine learning.\",\n",
    "    \"Odoo est un ERP open-source écrit en Python.\",\n",
    "    \"Le fleuve Niger traverse le Mali.\"\n",
    "]\n",
    "\n",
    "query = \"Quelle est la capitale du Mali ?\"\n"
   ]
  },
  {
   "cell_type": "markdown",
   "id": "9a5260e6-ac48-47ff-a5ac-d576a49a3207",
   "metadata": {},
   "source": [
    "### 2. Bi-encoder (dense retrieval)"
   ]
  },
  {
   "cell_type": "code",
   "execution_count": 14,
   "id": "4c62be1c-7bd2-46d6-ad01-bab139e4653b",
   "metadata": {},
   "outputs": [
    {
     "name": "stdout",
     "output_type": "stream",
     "text": [
      "\n",
      "=== Résultats Bi-encoder ===\n",
      "La capitale du Mali est Bamako. | Score: 0.8888\n",
      "Le fleuve Niger traverse le Mali. | Score: 0.4748\n",
      "Le deep learning est une branche du machine learning. | Score: 0.2293\n"
     ]
    }
   ],
   "source": [
    "from sentence_transformers import SentenceTransformer, util\n",
    "\n",
    "bi_encoder = SentenceTransformer('multi-qa-MiniLM-L6-cos-v1')\n",
    "\n",
    "doc_embeddings = bi_encoder.encode(documents, convert_to_tensor=True)\n",
    "query_embedding = bi_encoder.encode(query, convert_to_tensor=True)\n",
    "\n",
    "hits = util.semantic_search(query_embedding, doc_embeddings, top_k=3)[0]\n",
    "\n",
    "print(\"\\n=== Résultats Bi-encoder ===\")\n",
    "for hit in hits:\n",
    "    print(f\"{documents[hit['corpus_id']]} | Score: {hit['score']:.4f}\")\n"
   ]
  },
  {
   "cell_type": "markdown",
   "id": "22d71294-5d07-4cd2-a5d6-eb8472bcc27c",
   "metadata": {},
   "source": [
    "### 3. Cross-encoder (re-ranking)"
   ]
  },
  {
   "cell_type": "code",
   "execution_count": 15,
   "id": "2d925e56-b9ab-43c9-a2c4-e189ad2e86f4",
   "metadata": {},
   "outputs": [
    {
     "name": "stdout",
     "output_type": "stream",
     "text": [
      "\n",
      "=== Résultats Cross-encoder Re-ranker ===\n",
      "La capitale du Mali est Bamako. | Score: 6.1318\n",
      "Le fleuve Niger traverse le Mali. | Score: -5.1832\n",
      "Le deep learning est une branche du machine learning. | Score: -11.0533\n"
     ]
    }
   ],
   "source": [
    "from sentence_transformers import CrossEncoder\n",
    "\n",
    "cross_encoder = CrossEncoder('cross-encoder/ms-marco-MiniLM-L-6-v2')\n",
    "cross_inp = [[query, documents[hit['corpus_id']]] for hit in hits]\n",
    "cross_scores = cross_encoder.predict(cross_inp)\n",
    "\n",
    "reranked = sorted(zip(cross_scores, cross_inp), key=lambda x: x[0], reverse=True)\n",
    "\n",
    "print(\"\\n=== Résultats Cross-encoder Re-ranker ===\")\n",
    "for score, pair in reranked:\n",
    "    print(f\"{pair[1]} | Score: {score:.4f}\")"
   ]
  },
  {
   "cell_type": "markdown",
   "id": "96dac35e-f470-421b-b0fa-eba0c17dee2b",
   "metadata": {},
   "source": [
    "### 4. Hybrid search (BM25 + dense)"
   ]
  },
  {
   "cell_type": "code",
   "execution_count": 16,
   "id": "04204e69-57cd-4d65-bbfc-19f934f196e1",
   "metadata": {},
   "outputs": [
    {
     "name": "stdout",
     "output_type": "stream",
     "text": [
      "\n",
      "=== BM25 scores ===\n",
      "La capitale du Mali est Bamako. | Tokens: ['la', 'capitale', 'du', 'mali', 'est', 'bamako.'] | Score: 2.9471\n",
      "Le deep learning est une branche du machine learning. | Tokens: ['le', 'deep', 'learning', 'est', 'une', 'branche', 'du', 'machine', 'learning.'] | Score: 0.1592\n",
      "Odoo est un ERP open-source écrit en Python. | Tokens: ['odoo', 'est', 'un', 'erp', 'open-source', 'écrit', 'en', 'python.'] | Score: 0.1687\n",
      "Le fleuve Niger traverse le Mali. | Tokens: ['le', 'fleuve', 'niger', 'traverse', 'le', 'mali.'] | Score: 0.0000\n"
     ]
    }
   ],
   "source": [
    "from rank_bm25 import BM25Okapi\n",
    "\n",
    "# Tokenisation simple (minuscule + split par espaces)\n",
    "tokenized_corpus = [doc.lower().split() for doc in documents]\n",
    "bm25 = BM25Okapi(tokenized_corpus)\n",
    "\n",
    "# Scores BM25 pour la query\n",
    "bm25_scores = bm25.get_scores(query.lower().split())\n",
    "\n",
    "print(\"\\n=== BM25 scores ===\")\n",
    "for i in range(len(documents)):\n",
    "    print(f\"{documents[i]} | Tokens: {tokenized_corpus[i]} | Score: {bm25_scores[i]:.4f}\")\n"
   ]
  },
  {
   "cell_type": "markdown",
   "id": "4e95ccf9-2b2b-4616-a81d-6ec600146392",
   "metadata": {},
   "source": [
    "##### Fusion BM25 + bi-encoder (score normalisé simple)"
   ]
  },
  {
   "cell_type": "code",
   "execution_count": 17,
   "id": "46d92489-9643-4be3-a95f-4d8f24fa763c",
   "metadata": {},
   "outputs": [
    {
     "name": "stdout",
     "output_type": "stream",
     "text": [
      "\n",
      "=== Résultats Hybrid (BM25 + Dense) ===\n",
      "La capitale du Mali est Bamako. | Score: 1.0000\n",
      "Le fleuve Niger traverse le Mali. | Score: 0.2671\n",
      "Le deep learning est une branche du machine learning. | Score: 0.1560\n",
      "Odoo est un ERP open-source écrit en Python. | Score: 0.0879\n"
     ]
    }
   ],
   "source": [
    "import numpy as np\n",
    "\n",
    "dense_scores = np.array([util.cos_sim(query_embedding, doc_embeddings[i]).item() for i in range(len(documents))])\n",
    "bm25_scores = np.array(bm25_scores)\n",
    "\n",
    "hybrid_scores = 0.5 * (dense_scores / dense_scores.max()) + 0.5 * (bm25_scores / bm25_scores.max())\n",
    "\n",
    "sorted_docs = sorted(zip(hybrid_scores, documents), key=lambda x: x[0], reverse=True)\n",
    "\n",
    "print(\"\\n=== Résultats Hybrid (BM25 + Dense) ===\")\n",
    "for score, doc in sorted_docs:\n",
    "    print(f\"{doc} | Score: {score:.4f}\")"
   ]
  },
  {
   "cell_type": "code",
   "execution_count": null,
   "id": "504c066f-8137-49a4-baa2-e543bb37ebf3",
   "metadata": {},
   "outputs": [],
   "source": []
  }
 ],
 "metadata": {
  "kernelspec": {
   "display_name": "Python 3 (ipykernel)",
   "language": "python",
   "name": "python3"
  },
  "language_info": {
   "codemirror_mode": {
    "name": "ipython",
    "version": 3
   },
   "file_extension": ".py",
   "mimetype": "text/x-python",
   "name": "python",
   "nbconvert_exporter": "python",
   "pygments_lexer": "ipython3",
   "version": "3.11.9"
  }
 },
 "nbformat": 4,
 "nbformat_minor": 5
}
